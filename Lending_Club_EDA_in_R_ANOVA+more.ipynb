{
 "cells": [
  {
   "cell_type": "code",
   "execution_count": 1,
   "metadata": {
    "collapsed": false
   },
   "outputs": [
    {
     "data": {
      "text/plain": [
       "               _                           \n",
       "platform       x86_64-w64-mingw32          \n",
       "arch           x86_64                      \n",
       "os             mingw32                     \n",
       "system         x86_64, mingw32             \n",
       "status                                     \n",
       "major          3                           \n",
       "minor          3.3                         \n",
       "year           2017                        \n",
       "month          03                          \n",
       "day            06                          \n",
       "svn rev        72310                       \n",
       "language       R                           \n",
       "version.string R version 3.3.3 (2017-03-06)\n",
       "nickname       Another Canoe               "
      ]
     },
     "metadata": {},
     "output_type": "display_data"
    }
   ],
   "source": [
    "version"
   ]
  },
  {
   "cell_type": "markdown",
   "metadata": {
    "collapsed": false
   },
   "source": [
    "# If your R version isn't the latest (3.3.3 at the time of this writing), upgrade R if need be, from here:\n",
    "(for windows) https://www.r-statistics.com/2015/06/a-step-by-step-screenshots-tutorial-for-upgrading-r-on-windows/"
   ]
  },
  {
   "cell_type": "code",
   "execution_count": 2,
   "metadata": {
    "collapsed": false,
    "deletable": true,
    "editable": true
   },
   "outputs": [
    {
     "name": "stderr",
     "output_type": "stream",
     "text": [
      "Loading required package: data.table\n",
      "Loading required package: ggplot2\n"
     ]
    }
   ],
   "source": [
    "# this will install the required packages\n",
    "if (!require(data.table)) {\n",
    "    install.packages('data.table', repos='https://cloud.r-project.org/')\n",
    "    require(data.table)\n",
    "    }\n",
    "\n",
    "if (!require(ggplot2)) {\n",
    "    install.packages('ggplot2', repos='https://cloud.r-project.org/')\n",
    "    require(ggplot2)\n",
    "    }"
   ]
  },
  {
   "cell_type": "markdown",
   "metadata": {},
   "source": [
    "## If on mac and you get an error with something about openmp, follow these instructions to fix it:\n",
    "https://github.com/Rdatatable/data.table/wiki/Installation#openmp-enabled-compiler-for-mac\n",
    "## If you don't fix it, your code will run slowly because it will only be using one of your processer cores."
   ]
  },
  {
   "cell_type": "code",
   "execution_count": 3,
   "metadata": {
    "collapsed": false,
    "deletable": true,
    "editable": true
   },
   "outputs": [
    {
     "data": {
      "text/html": [
       "'C:/Users/ngeorge/Documents/GitHub/lending_club_EDA'"
      ],
      "text/latex": [
       "'C:/Users/ngeorge/Documents/GitHub/lending\\_club\\_EDA'"
      ],
      "text/markdown": [
       "'C:/Users/ngeorge/Documents/GitHub/lending_club_EDA'"
      ],
      "text/plain": [
       "[1] \"C:/Users/ngeorge/Documents/GitHub/lending_club_EDA\""
      ]
     },
     "metadata": {},
     "output_type": "display_data"
    }
   ],
   "source": [
    "# shows the current working directory (wd)\n",
    "getwd()"
   ]
  },
  {
   "cell_type": "markdown",
   "metadata": {},
   "source": [
    "# Getting started: finding filepaths on your computer\n",
    "## I noticed some people struggled with finding their filepaths to the data, and couldn't load the data due to this.  Basically you're going to want to google 'copy filepath in windows', or 'find filepath in mac', or 'copy filepath in ubuntu', or something similar for whatever operating system you're using.\n",
    "### Windows: http://www.pcworld.com/article/251406/windows_tips_copy_a_file_path_show_or_hide_extensions.html (you can also get the path from properties, or from the address bar)\n",
    "### Mac: https://www.cnet.com/how-to/how-to-copy-a-file-path-in-os-x/\n",
    "### Ubuntu: http://askubuntu.com/questions/23413/how-can-you-quickly-get-the-complete-path-to-a-file-for-use-in-terminal"
   ]
  },
  {
   "cell_type": "markdown",
   "metadata": {},
   "source": [
    "# A note on strings in R:\n",
    "### The backslash (\\\\) character is a special one in strings (strings are text blocks in quotes, like 'this is a string').  It 'escapes' characters:\n",
    "### http://stackoverflow.com/questions/11806501/how-to-escape-backslashes-in-r-string\n",
    "### So if you're copying the path 'C:\\Users\\me\\github\\data.csv', it should be either:\n",
    "### 'C:\\\\\\Users\\\\\\me\\\\\\github\\\\\\data.csv'\n",
    "### or\n",
    "### 'C:/Users/me/github/data.csv'\n",
    "### Otherwise, you'll get an error."
   ]
  },
  {
   "cell_type": "code",
   "execution_count": 4,
   "metadata": {
    "collapsed": false,
    "deletable": true,
    "editable": true
   },
   "outputs": [],
   "source": [
    "# loading takes a while...\n",
    "\n",
    "# this should be the path to the data.  Adapt for your system\n",
    "filepath <- 'C:/Users/ngeorge/Documents/GitHub/preprocess_lending_club_data/full_data/'\n",
    "\n",
    "accepted_def <- read.csv(gzfile(paste(filepath, 'accepted_2007_to_2016.csv.gz', sep='')), na.strings='')\n",
    "acc_dt <- as.data.table(accepted_def)"
   ]
  },
  {
   "cell_type": "code",
   "execution_count": 5,
   "metadata": {
    "collapsed": false,
    "deletable": true,
    "editable": true
   },
   "outputs": [
    {
     "data": {
      "text/html": [
       "<ol class=list-inline>\n",
       "\t<li>1321847</li>\n",
       "\t<li>110</li>\n",
       "</ol>\n"
      ],
      "text/latex": [
       "\\begin{enumerate*}\n",
       "\\item 1321847\n",
       "\\item 110\n",
       "\\end{enumerate*}\n"
      ],
      "text/markdown": [
       "1. 1321847\n",
       "2. 110\n",
       "\n",
       "\n"
      ],
      "text/plain": [
       "[1] 1321847     110"
      ]
     },
     "metadata": {},
     "output_type": "display_data"
    }
   ],
   "source": [
    "# that's a lot of observations\n",
    "dim(acc_dt)"
   ]
  },
  {
   "cell_type": "code",
   "execution_count": 6,
   "metadata": {
    "collapsed": false,
    "deletable": true,
    "editable": true
   },
   "outputs": [
    {
     "data": {
      "text/html": [
       "<ol class=list-inline>\n",
       "\t<li>'id'</li>\n",
       "\t<li>'member_id'</li>\n",
       "\t<li>'loan_amnt'</li>\n",
       "\t<li>'funded_amnt'</li>\n",
       "\t<li>'funded_amnt_inv'</li>\n",
       "\t<li>'term'</li>\n",
       "\t<li>'int_rate'</li>\n",
       "\t<li>'installment'</li>\n",
       "\t<li>'grade'</li>\n",
       "\t<li>'sub_grade'</li>\n",
       "\t<li>'emp_title'</li>\n",
       "\t<li>'emp_length'</li>\n",
       "\t<li>'home_ownership'</li>\n",
       "\t<li>'annual_inc'</li>\n",
       "\t<li>'verification_status'</li>\n",
       "\t<li>'issue_d'</li>\n",
       "\t<li>'loan_status'</li>\n",
       "\t<li>'pymnt_plan'</li>\n",
       "\t<li>'desc'</li>\n",
       "\t<li>'purpose'</li>\n",
       "\t<li>'title'</li>\n",
       "\t<li>'zip_code'</li>\n",
       "\t<li>'addr_state'</li>\n",
       "\t<li>'dti'</li>\n",
       "\t<li>'delinq_2yrs'</li>\n",
       "\t<li>'earliest_cr_line'</li>\n",
       "\t<li>'inq_last_6mths'</li>\n",
       "\t<li>'mths_since_last_delinq'</li>\n",
       "\t<li>'mths_since_last_record'</li>\n",
       "\t<li>'open_acc'</li>\n",
       "\t<li>'pub_rec'</li>\n",
       "\t<li>'revol_bal'</li>\n",
       "\t<li>'revol_util'</li>\n",
       "\t<li>'total_acc'</li>\n",
       "\t<li>'initial_list_status'</li>\n",
       "\t<li>'out_prncp'</li>\n",
       "\t<li>'out_prncp_inv'</li>\n",
       "\t<li>'total_pymnt'</li>\n",
       "\t<li>'total_pymnt_inv'</li>\n",
       "\t<li>'total_rec_prncp'</li>\n",
       "\t<li>'total_rec_int'</li>\n",
       "\t<li>'total_rec_late_fee'</li>\n",
       "\t<li>'recoveries'</li>\n",
       "\t<li>'collection_recovery_fee'</li>\n",
       "\t<li>'last_pymnt_d'</li>\n",
       "\t<li>'last_pymnt_amnt'</li>\n",
       "\t<li>'next_pymnt_d'</li>\n",
       "\t<li>'last_credit_pull_d'</li>\n",
       "\t<li>'collections_12_mths_ex_med'</li>\n",
       "\t<li>'mths_since_last_major_derog'</li>\n",
       "\t<li>'policy_code'</li>\n",
       "\t<li>'application_type'</li>\n",
       "\t<li>'annual_inc_joint'</li>\n",
       "\t<li>'dti_joint'</li>\n",
       "\t<li>'verification_status_joint'</li>\n",
       "\t<li>'acc_now_delinq'</li>\n",
       "\t<li>'tot_coll_amt'</li>\n",
       "\t<li>'tot_cur_bal'</li>\n",
       "\t<li>'open_acc_6m'</li>\n",
       "\t<li>'open_il_6m'</li>\n",
       "\t<li>'open_il_12m'</li>\n",
       "\t<li>'open_il_24m'</li>\n",
       "\t<li>'mths_since_rcnt_il'</li>\n",
       "\t<li>'total_bal_il'</li>\n",
       "\t<li>'il_util'</li>\n",
       "\t<li>'open_rv_12m'</li>\n",
       "\t<li>'open_rv_24m'</li>\n",
       "\t<li>'max_bal_bc'</li>\n",
       "\t<li>'all_util'</li>\n",
       "\t<li>'total_rev_hi_lim'</li>\n",
       "\t<li>'inq_fi'</li>\n",
       "\t<li>'total_cu_tl'</li>\n",
       "\t<li>'inq_last_12m'</li>\n",
       "\t<li>'acc_open_past_24mths'</li>\n",
       "\t<li>'avg_cur_bal'</li>\n",
       "\t<li>'bc_open_to_buy'</li>\n",
       "\t<li>'bc_util'</li>\n",
       "\t<li>'chargeoff_within_12_mths'</li>\n",
       "\t<li>'delinq_amnt'</li>\n",
       "\t<li>'mo_sin_old_il_acct'</li>\n",
       "\t<li>'mo_sin_old_rev_tl_op'</li>\n",
       "\t<li>'mo_sin_rcnt_rev_tl_op'</li>\n",
       "\t<li>'mo_sin_rcnt_tl'</li>\n",
       "\t<li>'mort_acc'</li>\n",
       "\t<li>'mths_since_recent_bc'</li>\n",
       "\t<li>'mths_since_recent_bc_dlq'</li>\n",
       "\t<li>'mths_since_recent_inq'</li>\n",
       "\t<li>'mths_since_recent_revol_delinq'</li>\n",
       "\t<li>'num_accts_ever_120_pd'</li>\n",
       "\t<li>'num_actv_bc_tl'</li>\n",
       "\t<li>'num_actv_rev_tl'</li>\n",
       "\t<li>'num_bc_sats'</li>\n",
       "\t<li>'num_bc_tl'</li>\n",
       "\t<li>'num_il_tl'</li>\n",
       "\t<li>'num_op_rev_tl'</li>\n",
       "\t<li>'num_rev_accts'</li>\n",
       "\t<li>'num_rev_tl_bal_gt_0'</li>\n",
       "\t<li>'num_sats'</li>\n",
       "\t<li>'num_tl_120dpd_2m'</li>\n",
       "\t<li>'num_tl_30dpd'</li>\n",
       "\t<li>'num_tl_90g_dpd_24m'</li>\n",
       "\t<li>'num_tl_op_past_12m'</li>\n",
       "\t<li>'pct_tl_nvr_dlq'</li>\n",
       "\t<li>'percent_bc_gt_75'</li>\n",
       "\t<li>'pub_rec_bankruptcies'</li>\n",
       "\t<li>'tax_liens'</li>\n",
       "\t<li>'tot_hi_cred_lim'</li>\n",
       "\t<li>'total_bal_ex_mort'</li>\n",
       "\t<li>'total_bc_limit'</li>\n",
       "\t<li>'total_il_high_credit_limit'</li>\n",
       "</ol>\n"
      ],
      "text/latex": [
       "\\begin{enumerate*}\n",
       "\\item 'id'\n",
       "\\item 'member\\_id'\n",
       "\\item 'loan\\_amnt'\n",
       "\\item 'funded\\_amnt'\n",
       "\\item 'funded\\_amnt\\_inv'\n",
       "\\item 'term'\n",
       "\\item 'int\\_rate'\n",
       "\\item 'installment'\n",
       "\\item 'grade'\n",
       "\\item 'sub\\_grade'\n",
       "\\item 'emp\\_title'\n",
       "\\item 'emp\\_length'\n",
       "\\item 'home\\_ownership'\n",
       "\\item 'annual\\_inc'\n",
       "\\item 'verification\\_status'\n",
       "\\item 'issue\\_d'\n",
       "\\item 'loan\\_status'\n",
       "\\item 'pymnt\\_plan'\n",
       "\\item 'desc'\n",
       "\\item 'purpose'\n",
       "\\item 'title'\n",
       "\\item 'zip\\_code'\n",
       "\\item 'addr\\_state'\n",
       "\\item 'dti'\n",
       "\\item 'delinq\\_2yrs'\n",
       "\\item 'earliest\\_cr\\_line'\n",
       "\\item 'inq\\_last\\_6mths'\n",
       "\\item 'mths\\_since\\_last\\_delinq'\n",
       "\\item 'mths\\_since\\_last\\_record'\n",
       "\\item 'open\\_acc'\n",
       "\\item 'pub\\_rec'\n",
       "\\item 'revol\\_bal'\n",
       "\\item 'revol\\_util'\n",
       "\\item 'total\\_acc'\n",
       "\\item 'initial\\_list\\_status'\n",
       "\\item 'out\\_prncp'\n",
       "\\item 'out\\_prncp\\_inv'\n",
       "\\item 'total\\_pymnt'\n",
       "\\item 'total\\_pymnt\\_inv'\n",
       "\\item 'total\\_rec\\_prncp'\n",
       "\\item 'total\\_rec\\_int'\n",
       "\\item 'total\\_rec\\_late\\_fee'\n",
       "\\item 'recoveries'\n",
       "\\item 'collection\\_recovery\\_fee'\n",
       "\\item 'last\\_pymnt\\_d'\n",
       "\\item 'last\\_pymnt\\_amnt'\n",
       "\\item 'next\\_pymnt\\_d'\n",
       "\\item 'last\\_credit\\_pull\\_d'\n",
       "\\item 'collections\\_12\\_mths\\_ex\\_med'\n",
       "\\item 'mths\\_since\\_last\\_major\\_derog'\n",
       "\\item 'policy\\_code'\n",
       "\\item 'application\\_type'\n",
       "\\item 'annual\\_inc\\_joint'\n",
       "\\item 'dti\\_joint'\n",
       "\\item 'verification\\_status\\_joint'\n",
       "\\item 'acc\\_now\\_delinq'\n",
       "\\item 'tot\\_coll\\_amt'\n",
       "\\item 'tot\\_cur\\_bal'\n",
       "\\item 'open\\_acc\\_6m'\n",
       "\\item 'open\\_il\\_6m'\n",
       "\\item 'open\\_il\\_12m'\n",
       "\\item 'open\\_il\\_24m'\n",
       "\\item 'mths\\_since\\_rcnt\\_il'\n",
       "\\item 'total\\_bal\\_il'\n",
       "\\item 'il\\_util'\n",
       "\\item 'open\\_rv\\_12m'\n",
       "\\item 'open\\_rv\\_24m'\n",
       "\\item 'max\\_bal\\_bc'\n",
       "\\item 'all\\_util'\n",
       "\\item 'total\\_rev\\_hi\\_lim'\n",
       "\\item 'inq\\_fi'\n",
       "\\item 'total\\_cu\\_tl'\n",
       "\\item 'inq\\_last\\_12m'\n",
       "\\item 'acc\\_open\\_past\\_24mths'\n",
       "\\item 'avg\\_cur\\_bal'\n",
       "\\item 'bc\\_open\\_to\\_buy'\n",
       "\\item 'bc\\_util'\n",
       "\\item 'chargeoff\\_within\\_12\\_mths'\n",
       "\\item 'delinq\\_amnt'\n",
       "\\item 'mo\\_sin\\_old\\_il\\_acct'\n",
       "\\item 'mo\\_sin\\_old\\_rev\\_tl\\_op'\n",
       "\\item 'mo\\_sin\\_rcnt\\_rev\\_tl\\_op'\n",
       "\\item 'mo\\_sin\\_rcnt\\_tl'\n",
       "\\item 'mort\\_acc'\n",
       "\\item 'mths\\_since\\_recent\\_bc'\n",
       "\\item 'mths\\_since\\_recent\\_bc\\_dlq'\n",
       "\\item 'mths\\_since\\_recent\\_inq'\n",
       "\\item 'mths\\_since\\_recent\\_revol\\_delinq'\n",
       "\\item 'num\\_accts\\_ever\\_120\\_pd'\n",
       "\\item 'num\\_actv\\_bc\\_tl'\n",
       "\\item 'num\\_actv\\_rev\\_tl'\n",
       "\\item 'num\\_bc\\_sats'\n",
       "\\item 'num\\_bc\\_tl'\n",
       "\\item 'num\\_il\\_tl'\n",
       "\\item 'num\\_op\\_rev\\_tl'\n",
       "\\item 'num\\_rev\\_accts'\n",
       "\\item 'num\\_rev\\_tl\\_bal\\_gt\\_0'\n",
       "\\item 'num\\_sats'\n",
       "\\item 'num\\_tl\\_120dpd\\_2m'\n",
       "\\item 'num\\_tl\\_30dpd'\n",
       "\\item 'num\\_tl\\_90g\\_dpd\\_24m'\n",
       "\\item 'num\\_tl\\_op\\_past\\_12m'\n",
       "\\item 'pct\\_tl\\_nvr\\_dlq'\n",
       "\\item 'percent\\_bc\\_gt\\_75'\n",
       "\\item 'pub\\_rec\\_bankruptcies'\n",
       "\\item 'tax\\_liens'\n",
       "\\item 'tot\\_hi\\_cred\\_lim'\n",
       "\\item 'total\\_bal\\_ex\\_mort'\n",
       "\\item 'total\\_bc\\_limit'\n",
       "\\item 'total\\_il\\_high\\_credit\\_limit'\n",
       "\\end{enumerate*}\n"
      ],
      "text/markdown": [
       "1. 'id'\n",
       "2. 'member_id'\n",
       "3. 'loan_amnt'\n",
       "4. 'funded_amnt'\n",
       "5. 'funded_amnt_inv'\n",
       "6. 'term'\n",
       "7. 'int_rate'\n",
       "8. 'installment'\n",
       "9. 'grade'\n",
       "10. 'sub_grade'\n",
       "11. 'emp_title'\n",
       "12. 'emp_length'\n",
       "13. 'home_ownership'\n",
       "14. 'annual_inc'\n",
       "15. 'verification_status'\n",
       "16. 'issue_d'\n",
       "17. 'loan_status'\n",
       "18. 'pymnt_plan'\n",
       "19. 'desc'\n",
       "20. 'purpose'\n",
       "21. 'title'\n",
       "22. 'zip_code'\n",
       "23. 'addr_state'\n",
       "24. 'dti'\n",
       "25. 'delinq_2yrs'\n",
       "26. 'earliest_cr_line'\n",
       "27. 'inq_last_6mths'\n",
       "28. 'mths_since_last_delinq'\n",
       "29. 'mths_since_last_record'\n",
       "30. 'open_acc'\n",
       "31. 'pub_rec'\n",
       "32. 'revol_bal'\n",
       "33. 'revol_util'\n",
       "34. 'total_acc'\n",
       "35. 'initial_list_status'\n",
       "36. 'out_prncp'\n",
       "37. 'out_prncp_inv'\n",
       "38. 'total_pymnt'\n",
       "39. 'total_pymnt_inv'\n",
       "40. 'total_rec_prncp'\n",
       "41. 'total_rec_int'\n",
       "42. 'total_rec_late_fee'\n",
       "43. 'recoveries'\n",
       "44. 'collection_recovery_fee'\n",
       "45. 'last_pymnt_d'\n",
       "46. 'last_pymnt_amnt'\n",
       "47. 'next_pymnt_d'\n",
       "48. 'last_credit_pull_d'\n",
       "49. 'collections_12_mths_ex_med'\n",
       "50. 'mths_since_last_major_derog'\n",
       "51. 'policy_code'\n",
       "52. 'application_type'\n",
       "53. 'annual_inc_joint'\n",
       "54. 'dti_joint'\n",
       "55. 'verification_status_joint'\n",
       "56. 'acc_now_delinq'\n",
       "57. 'tot_coll_amt'\n",
       "58. 'tot_cur_bal'\n",
       "59. 'open_acc_6m'\n",
       "60. 'open_il_6m'\n",
       "61. 'open_il_12m'\n",
       "62. 'open_il_24m'\n",
       "63. 'mths_since_rcnt_il'\n",
       "64. 'total_bal_il'\n",
       "65. 'il_util'\n",
       "66. 'open_rv_12m'\n",
       "67. 'open_rv_24m'\n",
       "68. 'max_bal_bc'\n",
       "69. 'all_util'\n",
       "70. 'total_rev_hi_lim'\n",
       "71. 'inq_fi'\n",
       "72. 'total_cu_tl'\n",
       "73. 'inq_last_12m'\n",
       "74. 'acc_open_past_24mths'\n",
       "75. 'avg_cur_bal'\n",
       "76. 'bc_open_to_buy'\n",
       "77. 'bc_util'\n",
       "78. 'chargeoff_within_12_mths'\n",
       "79. 'delinq_amnt'\n",
       "80. 'mo_sin_old_il_acct'\n",
       "81. 'mo_sin_old_rev_tl_op'\n",
       "82. 'mo_sin_rcnt_rev_tl_op'\n",
       "83. 'mo_sin_rcnt_tl'\n",
       "84. 'mort_acc'\n",
       "85. 'mths_since_recent_bc'\n",
       "86. 'mths_since_recent_bc_dlq'\n",
       "87. 'mths_since_recent_inq'\n",
       "88. 'mths_since_recent_revol_delinq'\n",
       "89. 'num_accts_ever_120_pd'\n",
       "90. 'num_actv_bc_tl'\n",
       "91. 'num_actv_rev_tl'\n",
       "92. 'num_bc_sats'\n",
       "93. 'num_bc_tl'\n",
       "94. 'num_il_tl'\n",
       "95. 'num_op_rev_tl'\n",
       "96. 'num_rev_accts'\n",
       "97. 'num_rev_tl_bal_gt_0'\n",
       "98. 'num_sats'\n",
       "99. 'num_tl_120dpd_2m'\n",
       "100. 'num_tl_30dpd'\n",
       "101. 'num_tl_90g_dpd_24m'\n",
       "102. 'num_tl_op_past_12m'\n",
       "103. 'pct_tl_nvr_dlq'\n",
       "104. 'percent_bc_gt_75'\n",
       "105. 'pub_rec_bankruptcies'\n",
       "106. 'tax_liens'\n",
       "107. 'tot_hi_cred_lim'\n",
       "108. 'total_bal_ex_mort'\n",
       "109. 'total_bc_limit'\n",
       "110. 'total_il_high_credit_limit'\n",
       "\n",
       "\n"
      ],
      "text/plain": [
       "  [1] \"id\"                             \"member_id\"                     \n",
       "  [3] \"loan_amnt\"                      \"funded_amnt\"                   \n",
       "  [5] \"funded_amnt_inv\"                \"term\"                          \n",
       "  [7] \"int_rate\"                       \"installment\"                   \n",
       "  [9] \"grade\"                          \"sub_grade\"                     \n",
       " [11] \"emp_title\"                      \"emp_length\"                    \n",
       " [13] \"home_ownership\"                 \"annual_inc\"                    \n",
       " [15] \"verification_status\"            \"issue_d\"                       \n",
       " [17] \"loan_status\"                    \"pymnt_plan\"                    \n",
       " [19] \"desc\"                           \"purpose\"                       \n",
       " [21] \"title\"                          \"zip_code\"                      \n",
       " [23] \"addr_state\"                     \"dti\"                           \n",
       " [25] \"delinq_2yrs\"                    \"earliest_cr_line\"              \n",
       " [27] \"inq_last_6mths\"                 \"mths_since_last_delinq\"        \n",
       " [29] \"mths_since_last_record\"         \"open_acc\"                      \n",
       " [31] \"pub_rec\"                        \"revol_bal\"                     \n",
       " [33] \"revol_util\"                     \"total_acc\"                     \n",
       " [35] \"initial_list_status\"            \"out_prncp\"                     \n",
       " [37] \"out_prncp_inv\"                  \"total_pymnt\"                   \n",
       " [39] \"total_pymnt_inv\"                \"total_rec_prncp\"               \n",
       " [41] \"total_rec_int\"                  \"total_rec_late_fee\"            \n",
       " [43] \"recoveries\"                     \"collection_recovery_fee\"       \n",
       " [45] \"last_pymnt_d\"                   \"last_pymnt_amnt\"               \n",
       " [47] \"next_pymnt_d\"                   \"last_credit_pull_d\"            \n",
       " [49] \"collections_12_mths_ex_med\"     \"mths_since_last_major_derog\"   \n",
       " [51] \"policy_code\"                    \"application_type\"              \n",
       " [53] \"annual_inc_joint\"               \"dti_joint\"                     \n",
       " [55] \"verification_status_joint\"      \"acc_now_delinq\"                \n",
       " [57] \"tot_coll_amt\"                   \"tot_cur_bal\"                   \n",
       " [59] \"open_acc_6m\"                    \"open_il_6m\"                    \n",
       " [61] \"open_il_12m\"                    \"open_il_24m\"                   \n",
       " [63] \"mths_since_rcnt_il\"             \"total_bal_il\"                  \n",
       " [65] \"il_util\"                        \"open_rv_12m\"                   \n",
       " [67] \"open_rv_24m\"                    \"max_bal_bc\"                    \n",
       " [69] \"all_util\"                       \"total_rev_hi_lim\"              \n",
       " [71] \"inq_fi\"                         \"total_cu_tl\"                   \n",
       " [73] \"inq_last_12m\"                   \"acc_open_past_24mths\"          \n",
       " [75] \"avg_cur_bal\"                    \"bc_open_to_buy\"                \n",
       " [77] \"bc_util\"                        \"chargeoff_within_12_mths\"      \n",
       " [79] \"delinq_amnt\"                    \"mo_sin_old_il_acct\"            \n",
       " [81] \"mo_sin_old_rev_tl_op\"           \"mo_sin_rcnt_rev_tl_op\"         \n",
       " [83] \"mo_sin_rcnt_tl\"                 \"mort_acc\"                      \n",
       " [85] \"mths_since_recent_bc\"           \"mths_since_recent_bc_dlq\"      \n",
       " [87] \"mths_since_recent_inq\"          \"mths_since_recent_revol_delinq\"\n",
       " [89] \"num_accts_ever_120_pd\"          \"num_actv_bc_tl\"                \n",
       " [91] \"num_actv_rev_tl\"                \"num_bc_sats\"                   \n",
       " [93] \"num_bc_tl\"                      \"num_il_tl\"                     \n",
       " [95] \"num_op_rev_tl\"                  \"num_rev_accts\"                 \n",
       " [97] \"num_rev_tl_bal_gt_0\"            \"num_sats\"                      \n",
       " [99] \"num_tl_120dpd_2m\"               \"num_tl_30dpd\"                  \n",
       "[101] \"num_tl_90g_dpd_24m\"             \"num_tl_op_past_12m\"            \n",
       "[103] \"pct_tl_nvr_dlq\"                 \"percent_bc_gt_75\"              \n",
       "[105] \"pub_rec_bankruptcies\"           \"tax_liens\"                     \n",
       "[107] \"tot_hi_cred_lim\"                \"total_bal_ex_mort\"             \n",
       "[109] \"total_bc_limit\"                 \"total_il_high_credit_limit\"    "
      ]
     },
     "metadata": {},
     "output_type": "display_data"
    }
   ],
   "source": [
    "# and a lot of columns\n",
    "names(acc_dt)"
   ]
  },
  {
   "cell_type": "code",
   "execution_count": 7,
   "metadata": {
    "collapsed": false,
    "deletable": true,
    "editable": true
   },
   "outputs": [
    {
     "name": "stdout",
     "output_type": "stream",
     "text": [
      "Classes 'data.table' and 'data.frame':\t1321847 obs. of  110 variables:\n",
      " $ id                            : int  1077501 1077430 1077175 1076863 1075358 1075269 1069639 1072053 1071795 1071570 ...\n",
      " $ member_id                     : num  1296599 1314167 1313524 1277178 1311748 ...\n",
      " $ loan_amnt                     : num  5000 2500 2400 10000 3000 ...\n",
      " $ funded_amnt                   : num  5000 2500 2400 10000 3000 ...\n",
      " $ funded_amnt_inv               : num  4975 2500 2400 10000 3000 ...\n",
      " $ term                          : Factor w/ 2 levels \" 36 months\",\" 60 months\": 1 2 1 1 2 1 2 1 2 2 ...\n",
      " $ int_rate                      : num  10.6 15.3 16 13.5 12.7 ...\n",
      " $ installment                   : num  162.9 59.8 84.3 339.3 67.8 ...\n",
      " $ grade                         : Factor w/ 7 levels \"A\",\"B\",\"C\",\"D\",..: 2 3 3 3 2 1 3 5 6 2 ...\n",
      " $ sub_grade                     : Factor w/ 35 levels \"A1\",\"A2\",\"A3\",..: 7 14 15 11 10 4 15 21 27 10 ...\n",
      " $ emp_title                     : Factor w/ 381900 levels \"'Property Manager\",..: NA 286944 NA 12233 361022 365337 315798 217775 NA 329499 ...\n",
      " $ emp_length                    : Factor w/ 12 levels \"< 1 year\",\"1 year\",..: 3 1 3 3 2 5 10 11 6 1 ...\n",
      " $ home_ownership                : Factor w/ 6 levels \"ANY\",\"MORTGAGE\",..: 6 6 6 6 6 6 6 6 5 6 ...\n",
      " $ annual_inc                    : num  24000 30000 12252 49200 80000 ...\n",
      " $ verification_status           : Factor w/ 3 levels \"Not Verified\",..: 3 2 1 2 2 2 1 2 2 3 ...\n",
      " $ issue_d                       : Factor w/ 115 levels \"Apr-2008\",\"Apr-2009\",..: 24 24 24 24 24 24 24 24 24 24 ...\n",
      " $ loan_status                   : Factor w/ 10 levels \"Charged Off\",..: 6 1 6 6 6 6 6 6 1 1 ...\n",
      " $ pymnt_plan                    : Factor w/ 1 level \"n\": 1 1 1 1 1 1 1 1 1 1 ...\n",
      " $ desc                          : Factor w/ 124502 levels \"- Pay off Dell Financial: $ 1300.00 - Pay off IRS for 2005: $ 1400.00 - Pay off Mac Comp    : $ 1700.00 - Pay off Bill Me Later\"| __truncated__,..: 113416 113421 NA 113272 113248 NA 112361 111645 113246 111648 ...\n",
      " $ purpose                       : Factor w/ 14 levels \"car\",\"credit_card\",..: 2 1 12 10 10 14 3 1 12 10 ...\n",
      " $ title                         : Factor w/ 63156 levels \"'08 & '09 Roth IRA Investments\",..: 10498 4975 52509 50883 50276 42604 36956 7265 24375 6112 ...\n",
      " $ zip_code                      : Factor w/ 948 levels \"007xx\",\"008xx\",..: 820 300 581 867 921 813 271 850 908 739 ...\n",
      " $ addr_state                    : Factor w/ 51 levels \"AK\",\"AL\",\"AR\",..: 4 11 15 5 38 4 28 5 5 44 ...\n",
      " $ dti                           : num  27.65 1 8.72 20 17.94 ...\n",
      " $ delinq_2yrs                   : num  0 0 0 0 0 0 0 0 0 0 ...\n",
      " $ earliest_cr_line              : Factor w/ 718 levels \"Apr-1955\",\"Apr-1958\",..: 272 42 589 216 283 592 351 294 47 709 ...\n",
      " $ inq_last_6mths                : num  1 5 2 1 0 3 1 2 2 0 ...\n",
      " $ mths_since_last_delinq        : num  NA NA NA 35 38 NA NA NA NA NA ...\n",
      " $ mths_since_last_record        : num  NA NA NA NA NA NA NA NA NA NA ...\n",
      " $ open_acc                      : num  3 3 2 10 15 9 7 4 11 2 ...\n",
      " $ pub_rec                       : num  0 0 0 0 0 0 0 0 0 0 ...\n",
      " $ revol_bal                     : num  13648 1687 2956 5598 27783 ...\n",
      " $ revol_util                    : num  83.7 9.4 98.5 21 53.9 28.3 85.6 87.5 32.6 36.5 ...\n",
      " $ total_acc                     : num  9 4 10 37 38 12 11 4 13 3 ...\n",
      " $ initial_list_status           : Factor w/ 2 levels \"f\",\"w\": 1 1 1 1 1 1 1 1 1 1 ...\n",
      " $ out_prncp                     : num  0 0 0 0 0 0 0 0 0 0 ...\n",
      " $ out_prncp_inv                 : num  0 0 0 0 0 0 0 0 0 0 ...\n",
      " $ total_pymnt                   : num  5863 1015 3006 12232 4067 ...\n",
      " $ total_pymnt_inv               : num  5834 1015 3006 12232 4067 ...\n",
      " $ total_rec_prncp               : num  5000 456 2400 10000 3000 ...\n",
      " $ total_rec_int                 : num  863 435 606 2215 1067 ...\n",
      " $ total_rec_late_fee            : num  0 0 0 17 0 ...\n",
      " $ recoveries                    : num  0 123 0 0 0 ...\n",
      " $ collection_recovery_fee       : num  0 1.11 0 0 0 0 0 0 2.09 2.52 ...\n",
      " $ last_pymnt_d                  : Factor w/ 110 levels \"Apr-2008\",\"Apr-2009\",..: 45 6 63 45 47 45 83 45 5 88 ...\n",
      " $ last_pymnt_amnt               : num  171.6 119.7 649.9 357.5 67.3 ...\n",
      " $ next_pymnt_d                  : Factor w/ 103 levels \"Apr-2008\",\"Apr-2009\",..: NA NA NA NA NA NA NA NA NA NA ...\n",
      " $ last_credit_pull_d            : Factor w/ 115 levels \"Apr-2009\",\"Apr-2010\",..: 47 105 47 8 47 46 115 26 105 28 ...\n",
      " $ collections_12_mths_ex_med    : num  0 0 0 0 0 0 0 0 0 0 ...\n",
      " $ mths_since_last_major_derog   : num  NA NA NA NA NA NA NA NA NA NA ...\n",
      " $ policy_code                   : num  1 1 1 1 1 1 1 1 1 1 ...\n",
      " $ application_type              : Factor w/ 3 levels \"DIRECT_PAY\",\"INDIVIDUAL\",..: 2 2 2 2 2 2 2 2 2 2 ...\n",
      " $ annual_inc_joint              : num  NA NA NA NA NA NA NA NA NA NA ...\n",
      " $ dti_joint                     : num  NA NA NA NA NA NA NA NA NA NA ...\n",
      " $ verification_status_joint     : Factor w/ 3 levels \"Not Verified\",..: NA NA NA NA NA NA NA NA NA NA ...\n",
      " $ acc_now_delinq                : num  0 0 0 0 0 0 0 0 0 0 ...\n",
      " $ tot_coll_amt                  : num  NA NA NA NA NA NA NA NA NA NA ...\n",
      " $ tot_cur_bal                   : num  NA NA NA NA NA NA NA NA NA NA ...\n",
      " $ open_acc_6m                   : num  NA NA NA NA NA NA NA NA NA NA ...\n",
      " $ open_il_6m                    : num  NA NA NA NA NA NA NA NA NA NA ...\n",
      " $ open_il_12m                   : num  NA NA NA NA NA NA NA NA NA NA ...\n",
      " $ open_il_24m                   : num  NA NA NA NA NA NA NA NA NA NA ...\n",
      " $ mths_since_rcnt_il            : num  NA NA NA NA NA NA NA NA NA NA ...\n",
      " $ total_bal_il                  : num  NA NA NA NA NA NA NA NA NA NA ...\n",
      " $ il_util                       : num  NA NA NA NA NA NA NA NA NA NA ...\n",
      " $ open_rv_12m                   : num  NA NA NA NA NA NA NA NA NA NA ...\n",
      " $ open_rv_24m                   : num  NA NA NA NA NA NA NA NA NA NA ...\n",
      " $ max_bal_bc                    : num  NA NA NA NA NA NA NA NA NA NA ...\n",
      " $ all_util                      : num  NA NA NA NA NA NA NA NA NA NA ...\n",
      " $ total_rev_hi_lim              : num  NA NA NA NA NA NA NA NA NA NA ...\n",
      " $ inq_fi                        : num  NA NA NA NA NA NA NA NA NA NA ...\n",
      " $ total_cu_tl                   : num  NA NA NA NA NA NA NA NA NA NA ...\n",
      " $ inq_last_12m                  : num  NA NA NA NA NA NA NA NA NA NA ...\n",
      " $ acc_open_past_24mths          : num  NA NA NA NA NA NA NA NA NA NA ...\n",
      " $ avg_cur_bal                   : num  NA NA NA NA NA NA NA NA NA NA ...\n",
      " $ bc_open_to_buy                : num  NA NA NA NA NA NA NA NA NA NA ...\n",
      " $ bc_util                       : num  NA NA NA NA NA NA NA NA NA NA ...\n",
      " $ chargeoff_within_12_mths      : num  0 0 0 0 0 0 0 0 0 0 ...\n",
      " $ delinq_amnt                   : num  0 0 0 0 0 0 0 0 0 0 ...\n",
      " $ mo_sin_old_il_acct            : num  NA NA NA NA NA NA NA NA NA NA ...\n",
      " $ mo_sin_old_rev_tl_op          : num  NA NA NA NA NA NA NA NA NA NA ...\n",
      " $ mo_sin_rcnt_rev_tl_op         : num  NA NA NA NA NA NA NA NA NA NA ...\n",
      " $ mo_sin_rcnt_tl                : num  NA NA NA NA NA NA NA NA NA NA ...\n",
      " $ mort_acc                      : num  NA NA NA NA NA NA NA NA NA NA ...\n",
      " $ mths_since_recent_bc          : num  NA NA NA NA NA NA NA NA NA NA ...\n",
      " $ mths_since_recent_bc_dlq      : num  NA NA NA NA NA NA NA NA NA NA ...\n",
      " $ mths_since_recent_inq         : num  NA NA NA NA NA NA NA NA NA NA ...\n",
      " $ mths_since_recent_revol_delinq: num  NA NA NA NA NA NA NA NA NA NA ...\n",
      " $ num_accts_ever_120_pd         : num  NA NA NA NA NA NA NA NA NA NA ...\n",
      " $ num_actv_bc_tl                : num  NA NA NA NA NA NA NA NA NA NA ...\n",
      " $ num_actv_rev_tl               : num  NA NA NA NA NA NA NA NA NA NA ...\n",
      " $ num_bc_sats                   : num  NA NA NA NA NA NA NA NA NA NA ...\n",
      " $ num_bc_tl                     : num  NA NA NA NA NA NA NA NA NA NA ...\n",
      " $ num_il_tl                     : num  NA NA NA NA NA NA NA NA NA NA ...\n",
      " $ num_op_rev_tl                 : num  NA NA NA NA NA NA NA NA NA NA ...\n",
      " $ num_rev_accts                 : num  NA NA NA NA NA NA NA NA NA NA ...\n",
      " $ num_rev_tl_bal_gt_0           : num  NA NA NA NA NA NA NA NA NA NA ...\n",
      " $ num_sats                      : num  NA NA NA NA NA NA NA NA NA NA ...\n",
      " $ num_tl_120dpd_2m              : num  NA NA NA NA NA NA NA NA NA NA ...\n",
      " $ num_tl_30dpd                  : num  NA NA NA NA NA NA NA NA NA NA ...\n",
      " $ num_tl_90g_dpd_24m            : num  NA NA NA NA NA NA NA NA NA NA ...\n",
      " $ num_tl_op_past_12m            : num  NA NA NA NA NA NA NA NA NA NA ...\n",
      " $ pct_tl_nvr_dlq                : num  NA NA NA NA NA NA NA NA NA NA ...\n",
      " $ percent_bc_gt_75              : num  NA NA NA NA NA NA NA NA NA NA ...\n",
      " $ pub_rec_bankruptcies          : num  0 0 0 0 0 0 0 0 0 0 ...\n",
      " $ tax_liens                     : num  0 0 0 0 0 0 0 0 0 0 ...\n",
      " $ tot_hi_cred_lim               : num  NA NA NA NA NA NA NA NA NA NA ...\n",
      " $ total_bal_ex_mort             : num  NA NA NA NA NA NA NA NA NA NA ...\n",
      " $ total_bc_limit                : num  NA NA NA NA NA NA NA NA NA NA ...\n",
      " $ total_il_high_credit_limit    : num  NA NA NA NA NA NA NA NA NA NA ...\n",
      " - attr(*, \".internal.selfref\")=<externalptr> \n"
     ]
    }
   ],
   "source": [
    "str(acc_dt, list.len=ncol(acc_dt))"
   ]
  },
  {
   "cell_type": "code",
   "execution_count": 8,
   "metadata": {
    "collapsed": false,
    "deletable": true,
    "editable": true
   },
   "outputs": [
    {
     "data": {
      "image/png": "[encoded data removed]",
      "text/plain": [
       "Plot with title \"Histogram of acc_dt[, dti]\""
      ]
     },
     "metadata": {},
     "output_type": "display_data"
    }
   ],
   "source": [
    "# outliers are screwing it up!\n",
    "hist(acc_dt[, dti])"
   ]
  },
  {
   "cell_type": "code",
   "execution_count": 9,
   "metadata": {
    "collapsed": true,
    "deletable": true,
    "editable": true
   },
   "outputs": [],
   "source": [
    "# from here: http://stackoverflow.com/questions/4787332/how-to-remove-outliers-from-a-dataset\n",
    "remove_outliers <- function(x, na.rm = TRUE, ...) {\n",
    "  qnt <- quantile(x, probs=c(.25, .75), na.rm = na.rm, ...)\n",
    "  H <- 1.5 * IQR(x, na.rm = na.rm)\n",
    "  y <- x\n",
    "  y[x < (qnt[1] - H)] <- NA\n",
    "  y[x > (qnt[2] + H)] <- NA\n",
    "  y\n",
    "}"
   ]
  },
  {
   "cell_type": "code",
   "execution_count": 10,
   "metadata": {
    "collapsed": true,
    "deletable": true,
    "editable": true
   },
   "outputs": [],
   "source": [
    "dti_no_outliers <- remove_outliers(acc_dt[, dti])"
   ]
  },
  {
   "cell_type": "code",
   "execution_count": 11,
   "metadata": {
    "collapsed": false,
    "deletable": true,
    "editable": true
   },
   "outputs": [
    {
     "data": {
      "image/png": "[encoded data removed]",
      "text/plain": [
       "Plot with title \"Histogram of dti_no_outliers\""
      ]
     },
     "metadata": {},
     "output_type": "display_data"
    }
   ],
   "source": [
    "hist(dti_no_outliers)"
   ]
  },
  {
   "cell_type": "markdown",
   "metadata": {},
   "source": [
    "## Lets look at interest rates for the different loan grades.  Are they statistically significant from each other?\n",
    "## For this we can do ANOVA to test if the mean interest rate for different loan grades is stastistically significantly different.\n",
    "\n",
    "### This [data.table cheat sheet](https://s3.amazonaws.com/assets.datacamp.com/img/blog/data+table+cheat+sheet.pdf) will come in handy here."
   ]
  },
  {
   "cell_type": "markdown",
   "metadata": {},
   "source": [
    "## First things first:  can you show the unique values in a column?  Let's look at the unique values for the 'grade' column.  Print them out in alphabetical order so it looks like:\n",
    "\n",
    "A B C D E F G \n",
    "\n",
    "## Hints:\n",
    "https://stat.ethz.ch/R-manual/R-devel/library/base/html/sort.html\n",
    "\n",
    "https://stat.ethz.ch/R-manual/R-devel/library/base/html/unique.html"
   ]
  },
  {
   "cell_type": "code",
   "execution_count": 12,
   "metadata": {
    "collapsed": false
   },
   "outputs": [
    {
     "data": {
      "text/html": [
       "<ol class=list-inline>\n",
       "\t<li>A</li>\n",
       "\t<li>B</li>\n",
       "\t<li>C</li>\n",
       "\t<li>D</li>\n",
       "\t<li>E</li>\n",
       "\t<li>F</li>\n",
       "\t<li>G</li>\n",
       "</ol>\n"
      ],
      "text/latex": [
       "\\begin{enumerate*}\n",
       "\\item A\n",
       "\\item B\n",
       "\\item C\n",
       "\\item D\n",
       "\\item E\n",
       "\\item F\n",
       "\\item G\n",
       "\\end{enumerate*}\n"
      ],
      "text/markdown": [
       "1. A\n",
       "2. B\n",
       "3. C\n",
       "4. D\n",
       "5. E\n",
       "6. F\n",
       "7. G\n",
       "\n",
       "\n"
      ],
      "text/plain": [
       "[1] A B C D E F G\n",
       "Levels: A B C D E F G"
      ]
     },
     "metadata": {},
     "output_type": "display_data"
    }
   ],
   "source": [
    "#TODO: print the unique values for the grade column"
   ]
  },
  {
   "cell_type": "markdown",
   "metadata": {},
   "source": [
    "## Now, can you show the grades and their average interest rates?  You will need to group by the grades and calculate the mean to answer this question.  It should look like this:\n",
    "\n",
    "| grade |\tAvg_Interest_Rate |\n",
    "|:---|:---|\n",
    "|A |\t7.129947\n",
    "|B |\t10.626637\n",
    "|C |\t13.918715\n",
    "|D |\t17.502870\n",
    "|E |\t20.574477\n",
    "|F |\t24.230820\n",
    "|G |\t26.653138\n",
    "\n",
    "### Hints:\n",
    "http://www.statmethods.net/management/sorting.html\n",
    "\n",
    "http://www.r-tutor.com/elementary-statistics/numerical-measures/mean\n",
    "\n",
    "http://stackoverflow.com/questions/12353820/sort-rows-in-data-table"
   ]
  },
  {
   "cell_type": "code",
   "execution_count": 13,
   "metadata": {
    "collapsed": false,
    "scrolled": true
   },
   "outputs": [
    {
     "data": {
      "text/html": [
       "<table>\n",
       "<thead><tr><th scope=col>grade</th><th scope=col>Avg_Interest_Rate</th></tr></thead>\n",
       "<tbody>\n",
       "\t<tr><td>B        </td><td>10.626637</td></tr>\n",
       "\t<tr><td>C        </td><td>13.918715</td></tr>\n",
       "\t<tr><td>A        </td><td> 7.129947</td></tr>\n",
       "\t<tr><td>E        </td><td>20.574477</td></tr>\n",
       "\t<tr><td>F        </td><td>24.230820</td></tr>\n",
       "\t<tr><td>D        </td><td>17.502870</td></tr>\n",
       "\t<tr><td>G        </td><td>26.653138</td></tr>\n",
       "</tbody>\n",
       "</table>\n"
      ],
      "text/latex": [
       "\\begin{tabular}{r|ll}\n",
       " grade & Avg\\_Interest\\_Rate\\\\\n",
       "\\hline\n",
       "\t B         & 10.626637\\\\\n",
       "\t C         & 13.918715\\\\\n",
       "\t A         &  7.129947\\\\\n",
       "\t E         & 20.574477\\\\\n",
       "\t F         & 24.230820\\\\\n",
       "\t D         & 17.502870\\\\\n",
       "\t G         & 26.653138\\\\\n",
       "\\end{tabular}\n"
      ],
      "text/markdown": [
       "\n",
       "grade | Avg_Interest_Rate | \n",
       "|---|---|---|---|---|---|---|\n",
       "| B         | 10.626637 | \n",
       "| C         | 13.918715 | \n",
       "| A         |  7.129947 | \n",
       "| E         | 20.574477 | \n",
       "| F         | 24.230820 | \n",
       "| D         | 17.502870 | \n",
       "| G         | 26.653138 | \n",
       "\n",
       "\n"
      ],
      "text/plain": [
       "  grade Avg_Interest_Rate\n",
       "1 B     10.626637        \n",
       "2 C     13.918715        \n",
       "3 A      7.129947        \n",
       "4 E     20.574477        \n",
       "5 F     24.230820        \n",
       "6 D     17.502870        \n",
       "7 G     26.653138        "
      ]
     },
     "metadata": {},
     "output_type": "display_data"
    }
   ],
   "source": [
    "# TODO:  print out average interest rates for each grade, and store the result as a data table"
   ]
  },
  {
   "cell_type": "code",
   "execution_count": 14,
   "metadata": {
    "collapsed": false
   },
   "outputs": [
    {
     "data": {
      "text/html": [
       "<table>\n",
       "<thead><tr><th scope=col>grade</th><th scope=col>Avg_Interest_Rate</th></tr></thead>\n",
       "<tbody>\n",
       "\t<tr><td>A        </td><td> 7.129947</td></tr>\n",
       "\t<tr><td>B        </td><td>10.626637</td></tr>\n",
       "\t<tr><td>C        </td><td>13.918715</td></tr>\n",
       "\t<tr><td>D        </td><td>17.502870</td></tr>\n",
       "\t<tr><td>E        </td><td>20.574477</td></tr>\n",
       "\t<tr><td>F        </td><td>24.230820</td></tr>\n",
       "\t<tr><td>G        </td><td>26.653138</td></tr>\n",
       "</tbody>\n",
       "</table>\n"
      ],
      "text/latex": [
       "\\begin{tabular}{r|ll}\n",
       " grade & Avg\\_Interest\\_Rate\\\\\n",
       "\\hline\n",
       "\t A         &  7.129947\\\\\n",
       "\t B         & 10.626637\\\\\n",
       "\t C         & 13.918715\\\\\n",
       "\t D         & 17.502870\\\\\n",
       "\t E         & 20.574477\\\\\n",
       "\t F         & 24.230820\\\\\n",
       "\t G         & 26.653138\\\\\n",
       "\\end{tabular}\n"
      ],
      "text/markdown": [
       "\n",
       "grade | Avg_Interest_Rate | \n",
       "|---|---|---|---|---|---|---|\n",
       "| A         |  7.129947 | \n",
       "| B         | 10.626637 | \n",
       "| C         | 13.918715 | \n",
       "| D         | 17.502870 | \n",
       "| E         | 20.574477 | \n",
       "| F         | 24.230820 | \n",
       "| G         | 26.653138 | \n",
       "\n",
       "\n"
      ],
      "text/plain": [
       "  grade Avg_Interest_Rate\n",
       "1 A      7.129947        \n",
       "2 B     10.626637        \n",
       "3 C     13.918715        \n",
       "4 D     17.502870        \n",
       "5 E     20.574477        \n",
       "6 F     24.230820        \n",
       "7 G     26.653138        "
      ]
     },
     "metadata": {},
     "output_type": "display_data"
    }
   ],
   "source": [
    "# TODO: sort by grade"
   ]
  },
  {
   "cell_type": "code",
   "execution_count": 15,
   "metadata": {
    "collapsed": false
   },
   "outputs": [
    {
     "data": {
      "text/html": [
       "<table>\n",
       "<thead><tr><th scope=col>grade</th><th scope=col>Avg_Interest_Rate</th></tr></thead>\n",
       "<tbody>\n",
       "\t<tr><td>A        </td><td> 7.129947</td></tr>\n",
       "\t<tr><td>B        </td><td>10.626637</td></tr>\n",
       "\t<tr><td>C        </td><td>13.918715</td></tr>\n",
       "\t<tr><td>D        </td><td>17.502870</td></tr>\n",
       "\t<tr><td>E        </td><td>20.574477</td></tr>\n",
       "\t<tr><td>F        </td><td>24.230820</td></tr>\n",
       "\t<tr><td>G        </td><td>26.653138</td></tr>\n",
       "</tbody>\n",
       "</table>\n"
      ],
      "text/latex": [
       "\\begin{tabular}{r|ll}\n",
       " grade & Avg\\_Interest\\_Rate\\\\\n",
       "\\hline\n",
       "\t A         &  7.129947\\\\\n",
       "\t B         & 10.626637\\\\\n",
       "\t C         & 13.918715\\\\\n",
       "\t D         & 17.502870\\\\\n",
       "\t E         & 20.574477\\\\\n",
       "\t F         & 24.230820\\\\\n",
       "\t G         & 26.653138\\\\\n",
       "\\end{tabular}\n"
      ],
      "text/markdown": [
       "\n",
       "grade | Avg_Interest_Rate | \n",
       "|---|---|---|---|---|---|---|\n",
       "| A         |  7.129947 | \n",
       "| B         | 10.626637 | \n",
       "| C         | 13.918715 | \n",
       "| D         | 17.502870 | \n",
       "| E         | 20.574477 | \n",
       "| F         | 24.230820 | \n",
       "| G         | 26.653138 | \n",
       "\n",
       "\n"
      ],
      "text/plain": [
       "  grade Avg_Interest_Rate\n",
       "1 A      7.129947        \n",
       "2 B     10.626637        \n",
       "3 C     13.918715        \n",
       "4 D     17.502870        \n",
       "5 E     20.574477        \n",
       "6 F     24.230820        \n",
       "7 G     26.653138        "
      ]
     },
     "metadata": {},
     "output_type": "display_data"
    }
   ],
   "source": [
    "# TODO: permanantly change the order of the data table with average interest rates and print it\n",
    "# hint: use the setkey() function (find it in the data table cheat sheet)"
   ]
  },
  {
   "cell_type": "markdown",
   "metadata": {},
   "source": [
    "## Now make a bar plot with that data; it should look like this:\n",
    "\n",
    "![barplot](./barplot.png)\n",
    "\n",
    "## Hints:\n",
    "https://stat.ethz.ch/R-manual/R-devel/library/graphics/html/barplot.html\n"
   ]
  },
  {
   "cell_type": "code",
   "execution_count": 16,
   "metadata": {
    "collapsed": false
   },
   "outputs": [
    {
     "data": {
      "image/png": "[encoded data removed]",
      "text/plain": [
       "plot without title"
      ]
     },
     "metadata": {},
     "output_type": "display_data"
    }
   ],
   "source": [
    "# TODO: show barplot of interest rates for each grade"
   ]
  },
  {
   "cell_type": "markdown",
   "metadata": {},
   "source": [
    "## That's nice, but it's hard to tell how the spread of the interest rates differs, and how many outliers there are.  Instead, let's make a box and whisker plot.\n",
    "\n",
    "## See this for an explanation of box plots: http://www.physics.csbsju.edu/stats/box2.html\n",
    "\n",
    "## Hints:\n",
    "https://www.r-bloggers.com/summarising-data-using-box-and-whisker-plots/"
   ]
  },
  {
   "cell_type": "code",
   "execution_count": 17,
   "metadata": {
    "collapsed": false
   },
   "outputs": [
    {
     "data": {
      "image/png": "[encoded data removed]",
      "text/plain": [
       "plot without title"
      ]
     },
     "metadata": {},
     "output_type": "display_data"
    }
   ],
   "source": [
    "# TODO: make boxplot of the interest rate vs grade"
   ]
  },
  {
   "cell_type": "markdown",
   "metadata": {},
   "source": [
    "## Now let's do one-way ANOVA.  All this test will tell us is if the grade of the loan has any statistically significant effect on the interest rate.  What do you hypothesize?  That it will, or won't?\n",
    "\n",
    "## Hints:\n",
    "http://www.statmethods.net/stats/anova.html\n",
    "\n",
    "http://www.gardenersown.co.uk/education/lectures/r/anova.htm"
   ]
  },
  {
   "cell_type": "code",
   "execution_count": 18,
   "metadata": {
    "collapsed": false
   },
   "outputs": [],
   "source": [
    "# TODO: do ANOVA on interest rates and grades"
   ]
  },
  {
   "cell_type": "markdown",
   "metadata": {},
   "source": [
    "# warning...this next cell takes some time to run.  at least a minute or two...it will make many plots\n",
    "# we're looking for homoscedasticity here: https://en.wikipedia.org/wiki/Homoscedasticity\n",
    "# if the residuals are very biased to one side or the other, the analysis may not be trustworthy"
   ]
  },
  {
   "cell_type": "code",
   "execution_count": 19,
   "metadata": {
    "collapsed": false
   },
   "outputs": [
    {
     "data": {
      "image/png": "[encoded data removed]",
      "text/plain": [
       "Plot with title \"\""
      ]
     },
     "metadata": {},
     "output_type": "display_data"
    },
    {
     "data": {
      "image/png": "[encoded data removed]",
      "text/plain": [
       "Plot with title \"\""
      ]
     },
     "metadata": {},
     "output_type": "display_data"
    },
    {
     "data": {
      "image/png": "[encoded data removed]",
      "text/plain": [
       "Plot with title \"\""
      ]
     },
     "metadata": {},
     "output_type": "display_data"
    },
    {
     "data": {
      "image/png": "[encoded data removed]",
      "text/plain": [
       "Plot with title \"\""
      ]
     },
     "metadata": {},
     "output_type": "display_data"
    }
   ],
   "source": [
    "# OPTIONAL TODO: plot the ANOVA fit\n",
    "# warning...this takes some time.  at least a minute or two...it will make many plots\n",
    "# we're looking for homoscedasticity here: https://en.wikipedia.org/wiki/Homoscedasticity\n",
    "# if the residuals are very biased to one side or the other, the analysis may not be trustworthy"
   ]
  },
  {
   "cell_type": "code",
   "execution_count": 20,
   "metadata": {
    "collapsed": false
   },
   "outputs": [
    {
     "data": {
      "text/plain": [
       "                 Df   Sum Sq Mean Sq F value Pr(>F)    \n",
       "grade             6 25166007 4194334 2264787 <2e-16 ***\n",
       "Residuals   1321840  2448017       2                   \n",
       "---\n",
       "Signif. codes:  0 '***' 0.001 '**' 0.01 '*' 0.05 '.' 0.1 ' ' 1"
      ]
     },
     "metadata": {},
     "output_type": "display_data"
    }
   ],
   "source": [
    "# TODO: print out summary of the ANOVA fit"
   ]
  },
  {
   "cell_type": "markdown",
   "metadata": {},
   "source": [
    "### We can see from the Pr(>F), i.e. the probability of the F-statistic being greater than the value we found on the F-distribution, is very small.  Another way to think about this is the area under the F-distribution curve (with F greater than the F value we found) is very small.\n",
    "### Usually we use 0.05 as a threshold for statistical significance, so in this case, Pr(>F) is much smaller than 0.05, and therefore is statistically signficant."
   ]
  },
  {
   "cell_type": "markdown",
   "metadata": {},
   "source": [
    "## Let's see which loan grades are statistically different from the others.  For this, we can do a [Tukey HSD test](https://en.wikipedia.org/wiki/Tukey's_range_test).\n",
    "\n",
    "## Hints:\n",
    "http://www.gardenersown.co.uk/education/lectures/r/anova.htm"
   ]
  },
  {
   "cell_type": "code",
   "execution_count": 21,
   "metadata": {
    "collapsed": false
   },
   "outputs": [
    {
     "data": {
      "text/plain": [
       "  Tukey multiple comparisons of means\n",
       "    95% family-wise confidence level\n",
       "\n",
       "Fit: aov(formula = int_rate ~ grade, data = acc_dt)\n",
       "\n",
       "$grade\n",
       "         diff       lwr       upr p adj\n",
       "B-A  3.496690  3.485973  3.507408     0\n",
       "C-A  6.788768  6.777994  6.799542     0\n",
       "D-A 10.372923 10.360493 10.385353     0\n",
       "E-A 13.444530 13.429029 13.460032     0\n",
       "F-A 17.100874 17.076986 17.124761     0\n",
       "G-A 19.523191 19.477630 19.568752     0\n",
       "C-B  3.292078  3.282915  3.301241     0\n",
       "D-B  6.876233  6.865170  6.887295     0\n",
       "E-B  9.947840  9.933412  9.962268     0\n",
       "F-B 13.604183 13.580977 13.627389     0\n",
       "G-B 16.026501 15.981294 16.071708     0\n",
       "D-C  3.584155  3.573038  3.595272     0\n",
       "E-C  6.655762  6.641292  6.670232     0\n",
       "F-C 10.312106 10.288874 10.335337     0\n",
       "G-C 12.734423 12.689203 12.779643     0\n",
       "E-D  3.071607  3.055865  3.087349     0\n",
       "F-D  6.727950  6.703906  6.751995     0\n",
       "G-D  9.150268  9.104625  9.195911     0\n",
       "F-E  3.656343  3.630576  3.682110     0\n",
       "G-E  6.078661  6.032087  6.125234     0\n",
       "G-F  2.422318  2.372323  2.472312     0\n"
      ]
     },
     "metadata": {},
     "output_type": "display_data"
    }
   ],
   "source": [
    "# TODO: perform a Tukey HSD test\n",
    "\n",
    "# here we're looking at the p adj column, which is the p-value of the pairwise comparisons.  If this is less than 0.05, \n",
    "# we can say it's a statistically significant difference "
   ]
  },
  {
   "cell_type": "markdown",
   "metadata": {},
   "source": [
    "## Now find another variable other than grade, and see if the interest rate depends on that variable in a statistically significant way.  Go through a similar process as we did above -- first plotting the data to visually inspect the differences, then doing statistical tests to check for differences.\n",
    "\n",
    "## Make sure to choose a variable that is a 'Factor' (you can check them in the summary near the top), and don't use subgrade since we already used grade (unless you want to get fancy and subset one of the grades, then check the subgrades within that grade).\n",
    "## Also make sure not to choose one of the factors with 100s of levels; these were mistaken as factors by R during auto-parsing of the data."
   ]
  },
  {
   "cell_type": "code",
   "execution_count": null,
   "metadata": {
    "collapsed": true
   },
   "outputs": [],
   "source": []
  }
 ],
 "metadata": {
  "kernelspec": {
   "display_name": "R",
   "language": "R",
   "name": "ir"
  },
  "language_info": {
   "codemirror_mode": "r",
   "file_extension": ".r",
   "mimetype": "text/x-r-source",
   "name": "R",
   "pygments_lexer": "r",
   "version": "3.3.3"
  }
 },
 "nbformat": 4,
 "nbformat_minor": 2
}
